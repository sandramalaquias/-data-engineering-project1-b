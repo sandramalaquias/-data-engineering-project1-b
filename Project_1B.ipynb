{
 "cells": [
  {
   "cell_type": "markdown",
   "metadata": {
    "editable": true
   },
   "source": [
    "## Data Modeling using Cassandra DataBase\n",
    "\n",
    "In this project, you'll apply what you've learned on data modeling with Apache Cassandra and complete an ETL pipeline using Python. \n",
    "\n",
    "- model your data by creating tables in Apache Cassandra to run queries. \n",
    "- You are provided with part of the ETL pipeline that transfers data from a set of CSV files within a directory to        create a streamlined CSV file to model and insert data into Apache Cassandra tables. "
   ]
  },
  {
   "cell_type": "markdown",
   "metadata": {
    "editable": true
   },
   "source": [
    "# Part I. ETL Pipeline for Pre-Processing the Files"
   ]
  },
  {
   "cell_type": "markdown",
   "metadata": {
    "editable": true
   },
   "source": [
    "#### Import Python packages "
   ]
  },
  {
   "cell_type": "code",
   "execution_count": 1,
   "metadata": {
    "editable": true
   },
   "outputs": [],
   "source": [
    "# Import Python packages \n",
    "import pandas as pd\n",
    "import cassandra\n",
    "import re\n",
    "import os\n",
    "import glob\n",
    "import numpy as np\n",
    "import json\n",
    "import csv"
   ]
  },
  {
   "cell_type": "markdown",
   "metadata": {
    "editable": true
   },
   "source": [
    "#### Creating list of filepaths to process original event csv data files"
   ]
  },
  {
   "cell_type": "code",
   "execution_count": 2,
   "metadata": {
    "editable": true
   },
   "outputs": [
    {
     "name": "stdout",
     "output_type": "stream",
     "text": [
      "/home/workspace\n",
      "/home/workspace/event_data/2018-11-27-events.csv 30\n"
     ]
    }
   ],
   "source": [
    "# checking current working directory\n",
    "print(os.getcwd())\n",
    "\n",
    "# Get current folder and subfolder event data\n",
    "filepath = os.getcwd() + '/event_data'\n",
    "\n",
    "# Create a for loop to create a list of files and collecting each filepath\n",
    "for root, dirs, files in os.walk(filepath):\n",
    "    \n",
    "# join the file path and roots with the subdirectories using glob\n",
    "    file_path_list = glob.glob(os.path.join(root,'*'))\n",
    "    \n",
    "print(file_path_list[0], len(file_path_list))"
   ]
  },
  {
   "cell_type": "markdown",
   "metadata": {
    "editable": true
   },
   "source": [
    "#### Processing the files to create the data file csv that will be used for Apache Casssandra tables"
   ]
  },
  {
   "cell_type": "code",
   "execution_count": 3,
   "metadata": {
    "editable": true
   },
   "outputs": [],
   "source": [
    "# initiating an empty list of rows that will be generated from each file\n",
    "full_data_rows_list = [] \n",
    "    \n",
    "# for every filepath in the file path list \n",
    "for f in file_path_list:\n",
    "\n",
    "# reading csv file \n",
    "    with open(f, 'r', encoding = 'utf8', newline='') as csvfile: \n",
    "        # creating a csv reader object \n",
    "        csvreader = csv.reader(csvfile) \n",
    "        next(csvreader)\n",
    "        \n",
    " # extracting each data row one by one and append it        \n",
    "        for line in csvreader:\n",
    "            full_data_rows_list.append(line) \n",
    "            \n",
    "# uncomment the code below if needed to get total number of rows \n",
    "#print(\"Full data rows = \", len(full_data_rows_list))\n",
    "\n",
    "# uncomment the code below if needed view the rows \n",
    "#print(\"Full data rows = \", full_data_rows))\n",
    "\n",
    "\n",
    "# creating a smaller event data csv file called event_datafile_new csv that will be used to insert data into the \\\n",
    "# Apache Cassandra tables\n",
    "\n",
    "## The filter will be: select only records that 'artist' has value then result at smaller one\n",
    "\n",
    "csv.register_dialect('myDialect', quoting=csv.QUOTE_ALL, skipinitialspace=True)\n",
    "\n",
    "with open('event_datafile_new.csv', 'w', encoding = 'utf8', newline='') as f:\n",
    "    writer = csv.writer(f, dialect='myDialect')\n",
    "    writer.writerow(['artist','firstName','gender','itemInSession','lastName','length',\\\n",
    "                'level','location','sessionId','song','userId'])\n",
    "    for row in full_data_rows_list:\n",
    "        if (row[0] == ''):\n",
    "            continue\n",
    "        writer.writerow((row[0], row[2], row[3], row[4], row[5], row[6], row[7], row[8], row[12], row[13], row[16]))       \n"
   ]
  },
  {
   "cell_type": "code",
   "execution_count": 4,
   "metadata": {
    "editable": true
   },
   "outputs": [
    {
     "name": "stdout",
     "output_type": "stream",
     "text": [
      "6821\n"
     ]
    }
   ],
   "source": [
    "# check the number of rows csv file\n",
    "with open('event_datafile_new.csv', 'r', encoding = 'utf8') as f:\n",
    "    print(sum(1 for line in f))"
   ]
  },
  {
   "cell_type": "markdown",
   "metadata": {
    "editable": true
   },
   "source": [
    "# Part II. Modelling Apache Cassandra \n",
    " As Apache Cassandra is a a NoSQL database, think about the query first which will be used to fetch the data based on  which we will create the Table required.\n",
    "\n",
    " The main characteristc of Apache Cassandra,  to efficiently retrieve data, the where clause in fetch query must contain all the composite partition keys in the same order as specified in the primary key definition. If this is not provided, will result in error.\n",
    " \n",
    "Working with the CSV file titled <font color=red>event_datafile_new.csv</font>, located within the Workspace directory.  The event_datafile_new.csv contains the following columns: \n",
    "- artist \n",
    "- firstName of user\n",
    "- gender of user\n",
    "- item number in session\n",
    "- last name of user\n",
    "- length of the song\n",
    "- level (paid or free song)\n",
    "- location of the user\n",
    "- sessionId\n",
    "- song title\n",
    "- userId\n",
    "\n",
    "The image below is a screenshot of what the denormalized data should appear like in the <font color=red>**event_datafile_new.csv**</font> after the code above is run:<br>\n",
    "\n",
    "<img src=\"images/image_event_datafile_new.jpg\">"
   ]
  },
  {
   "cell_type": "markdown",
   "metadata": {
    "editable": true
   },
   "source": [
    "### Understanding the data"
   ]
  },
  {
   "cell_type": "code",
   "execution_count": 5,
   "metadata": {
    "editable": true
   },
   "outputs": [
    {
     "name": "stdout",
     "output_type": "stream",
     "text": [
      "<class 'pandas.core.frame.DataFrame'>\n",
      "RangeIndex: 6820 entries, 0 to 6819\n",
      "Data columns (total 11 columns):\n",
      "artist           6820 non-null object\n",
      "firstName        6820 non-null object\n",
      "gender           6820 non-null object\n",
      "itemInSession    6820 non-null int64\n",
      "lastName         6820 non-null object\n",
      "length           6820 non-null float64\n",
      "level            6820 non-null object\n",
      "location         6820 non-null object\n",
      "sessionId        6820 non-null int64\n",
      "song             6820 non-null object\n",
      "userId           6820 non-null int64\n",
      "dtypes: float64(1), int64(3), object(7)\n",
      "memory usage: 586.2+ KB\n"
     ]
    }
   ],
   "source": [
    "## understangin data using Pandas\n",
    "event = pd.read_csv('event_datafile_new.csv')  \n",
    "event.info()"
   ]
  },
  {
   "cell_type": "markdown",
   "metadata": {
    "editable": true
   },
   "source": [
    "#### Creating a Cluster"
   ]
  },
  {
   "cell_type": "code",
   "execution_count": 10,
   "metadata": {
    "editable": true
   },
   "outputs": [],
   "source": [
    "# Make a connection to a Cassandra instance \n",
    "\n",
    "from cassandra.cluster import Cluster\n",
    "cluster = Cluster()\n",
    "\n",
    "# To establish connection and begin executing queries, need a session\n",
    "session = cluster.connect()"
   ]
  },
  {
   "cell_type": "markdown",
   "metadata": {
    "editable": true
   },
   "source": [
    "#### Create Keyspace"
   ]
  },
  {
   "cell_type": "code",
   "execution_count": 11,
   "metadata": {
    "editable": true
   },
   "outputs": [],
   "source": [
    "try:\n",
    "    session.execute(\"\"\"\n",
    "    CREATE KEYSPACE IF NOT EXISTS udacity \n",
    "    WITH REPLICATION = \n",
    "    { 'class' : 'SimpleStrategy', 'replication_factor' : 1 }\"\"\"\n",
    ")\n",
    "\n",
    "except Exception as e:\n",
    "    print(e)"
   ]
  },
  {
   "cell_type": "markdown",
   "metadata": {
    "editable": true
   },
   "source": [
    "#### Set Keyspace"
   ]
  },
  {
   "cell_type": "code",
   "execution_count": 12,
   "metadata": {
    "editable": true
   },
   "outputs": [],
   "source": [
    "try:\n",
    "    session.set_keyspace('udacity')\n",
    "except Exception as e:\n",
    "    print(e)\n"
   ]
  },
  {
   "cell_type": "markdown",
   "metadata": {
    "editable": true
   },
   "source": [
    "### Create tables to run the following queries.  \n",
    "\n"
   ]
  },
  {
   "cell_type": "markdown",
   "metadata": {
    "editable": true
   },
   "source": [
    "### Query 1\n",
    "#### 1. Give me the artist, song title and song's length in the music app history that was heard during sessionId = 338, and itemInSession = 4. \n",
    "\n",
    "> a. The expected output is : \"Name of the artist, title of the song and length of the track\"    \n",
    "> b. Based on : \"sessionId and itemInSession\"\n",
    "\n",
    "From the above two points the query to get the data will be a SELECT statement like :\n",
    "\n",
    ">SELECT Name of the artist, title of the song, length of the track FROM TABLE_NAME  \n",
    ">       WHERE sessionId = value AND itemInSession = value\n",
    "\n",
    "##### Points of interest\n",
    "\n",
    "<ul>\n",
    "<li>As the filter will be done based on session_id, the table name for this query will be \"Session_library\"</li>\n",
    "<li>The table will be created only if it does not exist.<\\li>\n",
    "<li>The PRIMARY KEY will be <em><strong>(sessionId and itemInSession)</strong></em> that are enougth to get unique values for this table.</li>\n",
    "<li>The query result need only artist, song title and song's length, then they are the table columns.</li>\n",
    "<\\ul>\n"
   ]
  },
  {
   "cell_type": "markdown",
   "metadata": {
    "editable": true
   },
   "source": [
    "### Query 2\n",
    "#### 2. Give me only the following: name of artist, song (sorted by itemInSession) and user (first and last name) for userid = 10, sessionid = 182\n",
    "    \n",
    ">a. The expected output is : \"artist's name, song's title and user: first and last name\"    \n",
    ">b. Based on : \"userid and sessionid\" - sorted by itemInSession\n",
    "\n",
    "From the above two points the query to get the data will be a SELECT statement like :\n",
    "\n",
    ">Select artist name, song's title, user's firstName, user's lastName from Table_name WHERE userId = value and sessionId = value\"\n",
    "\n",
    "##### Points of interest\n",
    "\n",
    "<ul>\n",
    "<li>As the filter will be done based on userId, the table name for this query will be \"User_library\"</li>\n",
    "<li>The table will be created only if it does not exist.<\\li>\n",
    "<li>The PRIMARY KEY will be <em><strong>((userId, sessionId), itemInSession))</strong></em> that are enougth to get unique values for this table.<\\li>\n",
    "<li>Note that the cluster will be  <em><strong>userId and sessionID</strong></em>  and the column <em><strong>itemInSession</em></strong> will be used for sorted ascending.<\\li>\n",
    "<li>The query result need only artist's name, song's title and user's name (first and last), then they are the table columns.</li>\n",
    "<\\ul>\n"
   ]
  },
  {
   "cell_type": "markdown",
   "metadata": {
    "editable": true
   },
   "source": [
    "### Query 3\n",
    "#### 3. Give me every user name (first and last) in my music app history who listened to the song 'All Hands Against His Own'\n",
    "\n",
    ">a. The expected output is : \"user: first and last name\"    \n",
    ">b. Based on : \"song's title\" \n",
    "    \n",
    "From the above two points the query to get the data will be a SELECT statement like :\n",
    "\n",
    ">Select firstName, lastName from song_library WHERE song = value\"\n",
    "\n",
    "##### Points of interest\n",
    "\n",
    "<ul>\n",
    "<li>As the filter will be done based on song's title, the table name for this query will be \"Song_library\"</li>\n",
    "<li>The table will be created only if it does not exist.<\\li>\n",
    "<li>The PRIMARY KEY will be <em><strong>(song, userId)</strong></em> that are enougth to get unique values for this table.<\\li>\n",
    "<li>The query result need only user's name (first and last), then they are the table columns.</li>\n",
    "<li>Note that, regardless how many times the user listened the song, the table will record only once.\n",
    "<\\ul>"
   ]
  },
  {
   "cell_type": "markdown",
   "metadata": {
    "editable": true
   },
   "source": [
    "### Create tables"
   ]
  },
  {
   "cell_type": "code",
   "execution_count": 13,
   "metadata": {
    "editable": true
   },
   "outputs": [],
   "source": [
    "queries = []  # list of query create tables\n",
    "\n",
    "## Query 1:  Give me the artist, song title and song's length in the music app history \n",
    "##                  that was heard during sessionId = 338, and itemInSession = 4\n",
    "\n",
    "\n",
    "query1 = \"CREATE TABLE IF NOT EXISTS session_library \"\n",
    "query1 = query1 + \"\"\"(sessionId int, itemInSession int, artist text, song text, length float, \n",
    "                PRIMARY KEY (sessionId, itemInSession))\"\"\"\n",
    "\n",
    "queries.append(query1)\n",
    "\n",
    "## Query 2: Give me only the following: name of artist, song (sorted by itemInSession) and user \n",
    "##                 (first and last name) for userid = 10, sessionid = 182\n",
    "\n",
    "query2 = \"CREATE TABLE IF NOT EXISTS user_library \"\n",
    "query2 = query2 + \"\"\"(userId int, sessionId int, itemInSession int, artist text, song text, firstName text, lastName text, \n",
    "                PRIMARY KEY ((userId, sessionId), itemInSession))\"\"\"\n",
    "\n",
    "queries.append(query2)\n",
    "    \n",
    "## Query 3: Give me every user name (first and last) in my music app history who listened to the song '\n",
    "## 'All Hands Against His Own'\n",
    "\n",
    "query3 = \"CREATE TABLE IF NOT EXISTS song_library \"\n",
    "query3 = query3 + \"\"\"(song text, userId int, firstName text, lastName text, \n",
    "                PRIMARY KEY (song, userId))\"\"\"\n",
    "\n",
    "queries.append(query3)\n",
    "\n",
    "for query in queries:\n",
    "    try:\n",
    "        session.execute(query)\n",
    "    except Exception as e:\n",
    "        print(e)    \n",
    "        "
   ]
  },
  {
   "cell_type": "code",
   "execution_count": 14,
   "metadata": {
    "editable": true
   },
   "outputs": [
    {
     "name": "stdout",
     "output_type": "stream",
     "text": [
      "session_library\n",
      "song_library\n",
      "user_library\n"
     ]
    }
   ],
   "source": [
    "## checking the tables name created\n",
    "a = session.execute(\"SELECT * FROM system_schema.tables WHERE keyspace_name = 'udacity';\")\n",
    "    \n",
    "for row in a:\n",
    "    print (row[1])\n",
    "    "
   ]
  },
  {
   "cell_type": "markdown",
   "metadata": {
    "editable": true
   },
   "source": [
    "### Insert records into tables\n"
   ]
  },
  {
   "cell_type": "code",
   "execution_count": 15,
   "metadata": {
    "editable": true
   },
   "outputs": [],
   "source": [
    "# Insert records on a table \n",
    "\n",
    "file = 'event_datafile_new.csv'\n",
    "\n",
    "with open(file, encoding = 'utf8') as f:\n",
    "    csvreader = csv.reader(f)\n",
    "    next(csvreader) # skip header\n",
    "    for line in csvreader:\n",
    "        \n",
    "## Assign the INSERT statements into the `query` variable\n",
    "        query1 = \"INSERT INTO session_library (sessionId, itemInSession, artist, song, length)\"\n",
    "        query2 = \"INSERT INTO user_library (userId, sessionId, itemInSession, artist, song, firstName, lastName)\"\n",
    "        query3 = \"Insert INTO song_library (song, userId, firstName, lastName)\"\n",
    "    \n",
    "    #query = query + \"<ASSIGN VALUES HERE>\"\n",
    "        query1 = query1 + \" VALUES (%s, %s, %s, %s, %s)\"\n",
    "        query2 = query2 + \" VALUES (%s, %s, %s, %s, %s, %s, %s)\"\n",
    "        query3 = query3 + \" VALUES (%s, %s, %s, %s)\"\n",
    "        \n",
    "        ## Assign which column element should be assigned for each column in the INSERT statement.\n",
    "        ## For e.g., to INSERT artist_name and user first_name, you would change the code below to `line[0], line[1]`\n",
    "        session.execute(query1, (int(line[8]), int(line[3]), line[0], line[9], float(line[5])))\n",
    "        session.execute(query2, (int(line[10]), int(line[8]), int(line[3]), line[0], line[9], line[1], line[4]))\n",
    "        session.execute(query3, (line[9], int(line[10]), line[1], line[4]))\n",
    "        "
   ]
  },
  {
   "cell_type": "markdown",
   "metadata": {
    "editable": true
   },
   "source": [
    "#### Doing a SELECT to verify that the data have been inserted into each table"
   ]
  },
  {
   "cell_type": "code",
   "execution_count": 16,
   "metadata": {
    "editable": true
   },
   "outputs": [],
   "source": [
    "## Transform the select query result into dataframe\n",
    "\n",
    "pd.options.display.max_colwidth = 100\n",
    "\n",
    "def get_dataframe(rows, selection, list_columns):\n",
    "    dict_result = {}\n",
    "    i = 0\n",
    "  \n",
    "    for row in rows:\n",
    "        dict_result[i] = [content for content in row]\n",
    "        i += 1\n",
    "    \n",
    "    result = pd.DataFrame.from_dict(dict_result, orient='index', columns=list_columns)\n",
    "        \n",
    "    with pd.option_context('display.max_rows', None,\n",
    "                       'display.max_columns', None,\n",
    "                       'display.precision', 3,\n",
    "                       ):\n",
    "            print ('\\n ------------------ Query', selection, ' Result')\n",
    "            print(result)\n",
    "            \n",
    "    return result"
   ]
  },
  {
   "cell_type": "code",
   "execution_count": 17,
   "metadata": {
    "editable": true,
    "scrolled": true
   },
   "outputs": [
    {
     "name": "stdout",
     "output_type": "stream",
     "text": [
      "\n",
      " ------------------ Query 1  Result\n",
      "      Artist                             Song\n",
      "0  Faithless  Music Matters (Mark Knight Dub)\n"
     ]
    }
   ],
   "source": [
    "# Query 1: 1. Give me the artist, song title and song's length in the music app history that was heard during sessionId = 338, and itemInSession = 4. \n",
    "query = \"select artist, song from session_library WHERE sessionId = 338 and itemInSession = 4\"\n",
    "try:\n",
    "    rows = session.execute(query)\n",
    "except Exception as e:\n",
    "    print(e)\n",
    "    \n",
    "##get the dataframe from result    \n",
    "query1 = get_dataframe(rows, 1, ['Artist', 'Song'])\n",
    "\n"
   ]
  },
  {
   "cell_type": "code",
   "execution_count": 18,
   "metadata": {
    "editable": true
   },
   "outputs": [
    {
     "name": "stdout",
     "output_type": "stream",
     "text": [
      "\n",
      " ------------------ Query 2  Result\n",
      "              Artist                                                  Song  \\\n",
      "0   Down To The Bone                                    Keep On Keepin' On   \n",
      "1       Three Drives                                           Greece 2000   \n",
      "2  Sebastien Tellier                                             Kilometer   \n",
      "3      Lonnie Gordon  Catch You Baby (Steve Pitron & Max Sanna Radio Edit)   \n",
      "\n",
      "  First_Name Last_ Name  \n",
      "0     Sylvie       Cruz  \n",
      "1     Sylvie       Cruz  \n",
      "2     Sylvie       Cruz  \n",
      "3     Sylvie       Cruz  \n"
     ]
    }
   ],
   "source": [
    "## Query 2: Give me only the following: name of artist, song (sorted by itemInSession) and user (first and last name)\\\n",
    "## for userid = 10, sessionid = 182\n",
    "\n",
    "query = \"select artist, song, firstName, lastName from user_library WHERE userId = 10 and sessionId = 182\"\n",
    "\n",
    "try:\n",
    "    rows = session.execute(query)\n",
    "except Exception as e:\n",
    "    print(e)\n",
    "    \n",
    "##get the dataframe from result    \n",
    "query2 = get_dataframe(rows, 2, ['Artist', 'Song', 'First_Name', 'Last_ Name'])\n"
   ]
  },
  {
   "cell_type": "code",
   "execution_count": 19,
   "metadata": {
    "editable": true
   },
   "outputs": [
    {
     "name": "stdout",
     "output_type": "stream",
     "text": [
      "\n",
      " ------------------ Query 3  Result\n",
      "   First_Name Last_Name\n",
      "0  Jacqueline     Lynch\n",
      "1       Tegan    Levine\n",
      "2        Sara   Johnson\n"
     ]
    }
   ],
   "source": [
    "## Query 3: Give me every user name (first and last) in my music app history who listened to the song '\n",
    "## 'All Hands Against His Own'\n",
    "\n",
    "query = \"select firstName, lastName from song_library WHERE song = 'All Hands Against His Own'\"\n",
    "\n",
    "try:\n",
    "    rows = session.execute(query)\n",
    "except Exception as e:\n",
    "    print(e)\n",
    "    \n",
    "##get the dataframe from result    \n",
    "query3 = get_dataframe(rows, 3, ['First_Name', 'Last_Name'])"
   ]
  },
  {
   "cell_type": "markdown",
   "metadata": {
    "editable": true
   },
   "source": [
    "### Drop the tables before closing out the sessions"
   ]
  },
  {
   "cell_type": "code",
   "execution_count": null,
   "metadata": {
    "editable": true
   },
   "outputs": [],
   "source": [
    "## Drop the table before closing out the sessions\n",
    "queries = []\n",
    "query1 = \"drop table IF EXISTS session_library\"\n",
    "queries.append(query1)\n",
    "\n",
    "query2 = \"drop table IF EXISTS user_library\"\n",
    "queries.append(query2)\n",
    "\n",
    "query3 = 'drop table IF EXISTS song_library'\n",
    "queries.append(query3)\n",
    "\n",
    "for query in queries:\n",
    "    try:\n",
    "        rows = session.execute(query)\n",
    "    except Exception as e:\n",
    "        print(e)\n"
   ]
  },
  {
   "cell_type": "markdown",
   "metadata": {
    "editable": true
   },
   "source": [
    "### Close the session and cluster connection¶"
   ]
  },
  {
   "cell_type": "code",
   "execution_count": null,
   "metadata": {
    "editable": true
   },
   "outputs": [],
   "source": [
    "session.shutdown()\n",
    "cluster.shutdown()"
   ]
  },
  {
   "cell_type": "markdown",
   "metadata": {
    "editable": true
   },
   "source": [
    "### Parte III - match between query result and the select done from dataframe event_datafile_new"
   ]
  },
  {
   "cell_type": "code",
   "execution_count": 20,
   "metadata": {
    "editable": true
   },
   "outputs": [
    {
     "data": {
      "text/plain": [
       "True"
      ]
     },
     "execution_count": 20,
     "metadata": {},
     "output_type": "execute_result"
    }
   ],
   "source": [
    "#query1\n",
    "event1_list = event[(event.sessionId == 338) & (event.itemInSession == 4)][['artist', 'song']].values.tolist()\n",
    "query1_list = query1.values.tolist()\n",
    "\n",
    "event1_list == query1_list"
   ]
  },
  {
   "cell_type": "code",
   "execution_count": 21,
   "metadata": {
    "editable": true
   },
   "outputs": [
    {
     "data": {
      "text/plain": [
       "True"
      ]
     },
     "execution_count": 21,
     "metadata": {},
     "output_type": "execute_result"
    }
   ],
   "source": [
    "#query2\n",
    "event2_list = event[(event.userId == 10) & (event.sessionId == 182)][['artist', 'song', 'firstName', 'lastName']].values.tolist()\n",
    "query2_list = query2.values.tolist()\n",
    "\n",
    "event2_list == query2_list"
   ]
  },
  {
   "cell_type": "code",
   "execution_count": 28,
   "metadata": {
    "editable": true
   },
   "outputs": [
    {
     "data": {
      "text/plain": [
       "True"
      ]
     },
     "execution_count": 28,
     "metadata": {},
     "output_type": "execute_result"
    }
   ],
   "source": [
    "#q3\n",
    "\n",
    "event3 = event[event.song == 'All Hands Against His Own'].sort_values(by=['song', 'userId'])[['firstName', 'lastName']]\n",
    "event3.drop_duplicates(inplace=True)\n",
    "event3_list= event3.values.tolist()\n",
    "\n",
    "query3_list = query3.values.tolist()\n",
    "event3_list == query3_list\n"
   ]
  }
 ],
 "metadata": {
  "kernelspec": {
   "display_name": "Python 3",
   "language": "python",
   "name": "python3"
  },
  "language_info": {
   "codemirror_mode": {
    "name": "ipython",
    "version": 3
   },
   "file_extension": ".py",
   "mimetype": "text/x-python",
   "name": "python",
   "nbconvert_exporter": "python",
   "pygments_lexer": "ipython3",
   "version": "3.6.3"
  }
 },
 "nbformat": 4,
 "nbformat_minor": 4
}
